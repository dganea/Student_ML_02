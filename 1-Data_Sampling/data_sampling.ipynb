{
 "cells": [
  {
   "cell_type": "markdown",
   "metadata": {},
   "source": [
    "# Student Sampling for Proof of Concept"
   ]
  },
  {
   "cell_type": "markdown",
   "metadata": {},
   "source": [
    "## Tables used\n",
    "- student_selection.csv : contains 70 students selected based on their grades (from 100 down to under 40);the idea is to have distributed grades when the final module mark is calculated;\n",
    "- studentInfo.csv : (Original) Student Info Table which contains demographics\n",
    "- studentAssessment.csv : (Original) Table which contains student assessment scores\n",
    "- assesssments.csv : (Original) Table which contains assessment weights"
   ]
  },
  {
   "cell_type": "code",
   "execution_count": 1,
   "metadata": {},
   "outputs": [],
   "source": [
    "# Import Libraries\n",
    "import pandas as pd\n",
    "import numpy as np"
   ]
  },
  {
   "cell_type": "code",
   "execution_count": null,
   "metadata": {},
   "outputs": [],
   "source": [
    "# Read the .csv files from Data directory\n",
    "studentOriginalDf = pd.read_csv('../Data/studentInfo.csv')\n",
    "# studentOriginalDf.head()\n",
    "\n",
    "studentSelectionDf = pd.read_csv('../Data/student_selection.csv')\n",
    "# studentSelectionDf.head()\n"
   ]
  },
  {
   "cell_type": "code",
   "execution_count": 6,
   "metadata": {},
   "outputs": [
    {
     "name": "stdout",
     "output_type": "stream",
     "text": [
      "Subset of studentOriginalDf containing selected students (excluding Withdrawn) has been saved to subset_students_no_withdrawn.csv\n"
     ]
    }
   ],
   "source": [
    "# Assuming you already have studentOriginalDf and studentSelectionDf data frames loaded\n",
    "# Merge the two data frames based on id_student column\n",
    "subset_df = pd.merge(studentOriginalDf, studentSelectionDf, left_on='id_student', right_on='select_student_id')\n",
    "\n",
    "# Drop the select_student_id column as it's redundant\n",
    "subset_df.drop(columns=['select_student_id'], inplace=True)\n",
    "\n",
    "# Remove records with final_result = 'Withdrawn'\n",
    "subset_df = subset_df[subset_df['final_result'] != 'Withdrawn']\n",
    "\n",
    "# Save the subset data frame to a new CSV file\n",
    "subset_df.to_csv('../Data/subset_students_no_withdrawn.csv', index=False)\n",
    "\n",
    "print(\"Subset of studentOriginalDf containing selected students (excluding Withdrawn) has been saved to subset_students_no_withdrawn.csv\")\n"
   ]
  },
  {
   "cell_type": "code",
   "execution_count": 8,
   "metadata": {},
   "outputs": [],
   "source": [
    "# Create a new .csv file with unique id_student values and no \"Withdrawn\" records\n",
    "# Read the CSV file created above into a pandas DataFrame\n",
    "subset_df = pd.read_csv('../Data/subset_students_no_withdrawn.csv')\n",
    "\n",
    "# Remove rows with duplicated id_student values\n",
    "subset_df.drop_duplicates(subset='id_student', keep='first', inplace=True)\n",
    "\n",
    "# Save the subset data frame to a new CSV file\n",
    "subset_df.to_csv('../Data/subset_students_unique.csv', index=False)\n"
   ]
  },
  {
   "cell_type": "code",
   "execution_count": 10,
   "metadata": {},
   "outputs": [],
   "source": [
    "# Create a subset .csv file from stundentAssessment file, containing only the assessments of the students in sample unique file\n",
    "studentAssessment = pd.read_csv('../Data/studentAssessment.csv')\n",
    "subset_students_unique = pd.read_csv('../Data/subset_students_unique.csv')\n",
    "\n",
    "# Merge the two data frames based on id_student column\n",
    "subset_df = pd.merge(studentAssessment, subset_students_unique, left_on='id_student', right_on='id_student')\n",
    "# subset_df.info()\n",
    "\n",
    "subset_df.to_csv('../Data/subset_studentAssessment.csv', index=False)"
   ]
  },
  {
   "cell_type": "code",
   "execution_count": 12,
   "metadata": {},
   "outputs": [],
   "source": [
    "# Load subset_studentAssessment and assessments data frames\n",
    "subset_studentAssessment = pd.read_csv('../Data/subset_studentAssessment.csv')\n",
    "assessments = pd.read_csv('../Data/assessments.csv')\n",
    "\n",
    "# Merge the two data frames based on id_assessment column\n",
    "merged_df = pd.merge(subset_studentAssessment, assessments[['id_assessment', 'assessment_type', 'date', 'weight']],\n",
    "                     on='id_assessment', how='left')\n",
    "\n",
    "# Create the merged DataFrame\n",
    "merged_df.to_csv('../Data/merged_student_assessment_weights.csv', index=False)\n"
   ]
  },
  {
   "cell_type": "code",
   "execution_count": null,
   "metadata": {},
   "outputs": [],
   "source": [
    "import numpy as np\n",
    "\n",
    "# Load 'student' and 'marks' DataFrames\n",
    "student = pd.read_csv('../Data/subset_students_unique.csv')\n",
    "marks = pd.read_csv('../Data/merged_student_assessment_weights.csv')\n",
    "\n",
    "# Group the 'marks' DataFrame by 'id_student'\n",
    "grouped_marks = marks.groupby('id_student')\n",
    "\n",
    "# Initialize lists to store final values for each student\n",
    "final_scores = []\n",
    "assessment_types = []\n",
    "date_averages = []\n",
    "\n",
    "# Define a function to calculate final_score, assessment_type, and date_average\n",
    "def calculate_values(df):\n",
    "    # Calculate final_score\n",
    "    exam_score = df[df['assessment_type'] == 'Exam']['score'].values\n",
    "    other_scores = df[df['assessment_type'] != 'Exam']['score'].values\n",
    "    if len(exam_score) > 0:\n",
    "        final_score = (np.mean(other_scores) + exam_score[0]) / 2\n",
    "    else:\n",
    "        final_score = np.mean(other_scores)\n",
    "    final_scores.append(final_score)\n",
    "    \n",
    "    # Calculate assessment_type\n",
    "    assessment_type_counts = df['assessment_type'].value_counts()\n",
    "    max_count = max(assessment_type_counts)\n",
    "    most_common_types = assessment_type_counts[assessment_type_counts == max_count].index.tolist()\n",
    "    assessment_type = np.random.choice(most_common_types)\n",
    "    assessment_types.append(assessment_type)\n",
    "    \n",
    "    # Calculate date_average\n",
    "    date_average = np.mean(df[df['assessment_type'] != 'Exam']['date'])\n",
    "    date_averages.append(date_average)\n",
    "\n",
    "# Apply the function to each group in grouped_marks\n",
    "grouped_marks.apply(calculate_values)\n",
    "\n",
    "# Add new columns to 'student' DataFrame\n",
    "student['final_score'] = final_scores\n",
    "student['assessment_type'] = assessment_types\n",
    "student['date_average'] = date_averages\n",
    "\n",
    "# Round final_score values to 1 decimal place\n",
    "student['final_score'] = student['final_score'].round(1)\n",
    "\n",
    "# Convert date_average values to integers (no decimals)\n",
    "student['date_average'] = student['date_average'].astype(int)\n",
    "\n",
    "# Print the updated 'student' DataFrame\n",
    "print(student)\n"
   ]
  },
  {
   "cell_type": "code",
   "execution_count": null,
   "metadata": {},
   "outputs": [],
   "source": [
    "# Define a function to map final_score to grading_scale categories\n",
    "def map_grading_scale(final_score):\n",
    "    if final_score >= 90:\n",
    "        return 'A+'\n",
    "    elif final_score >= 85:\n",
    "        return 'A'\n",
    "    elif final_score >= 80:\n",
    "        return 'A-'\n",
    "    elif final_score >= 77:\n",
    "        return 'B+'\n",
    "    elif final_score >= 73:\n",
    "        return 'B'\n",
    "    elif final_score >= 70:\n",
    "        return 'B-'\n",
    "    elif final_score >= 67:\n",
    "        return 'C+'\n",
    "    elif final_score >= 63:\n",
    "        return 'C'\n",
    "    elif final_score >= 60:\n",
    "        return 'C-'\n",
    "    elif final_score >= 50:\n",
    "        return 'D'\n",
    "    else:\n",
    "        return 'F'\n",
    "\n",
    "# Apply the function to create the grading_scale column\n",
    "student['grading_scale'] = student['final_score'].apply(map_grading_scale)\n",
    "\n",
    "# Print the updated 'student' DataFrame\n",
    "print(student)\n"
   ]
  },
  {
   "cell_type": "code",
   "execution_count": null,
   "metadata": {},
   "outputs": [],
   "source": [
    "# Load and 'courses' DataFrame\n",
    "courses = pd.read_csv('../Data/courses.csv')\n",
    "\n",
    "# Merge the 'student' and 'courses' DataFrames based on code_module and code_presentation\n",
    "merged_student_course = pd.merge(student, courses, on=['code_module', 'code_presentation'], how='left')\n",
    "\n",
    "# Print the updated 'student' DataFrame with the 'module_presentation_length' column added\n",
    "print(merged_student_course)\n"
   ]
  },
  {
   "cell_type": "code",
   "execution_count": null,
   "metadata": {},
   "outputs": [],
   "source": [
    "# Select the desired columns\n",
    "finalStudent = merged_student_course[['gender', 'region', 'highest_education', 'imd_band', 'age_band',\n",
    "                               'num_of_prev_attempts', 'studied_credits', 'disability',\n",
    "                               'assessment_type', 'date_average', 'module_presentation_length',\n",
    "                               'grading_scale']]\n",
    "\n",
    "# Write the finalStudent DataFrame to a CSV file\n",
    "finalStudent.to_csv('final_student.csv', index=False)\n",
    "\n",
    "# Print a message to confirm the CSV file has been created\n",
    "print(\"final_student.csv has been created successfully.\")\n"
   ]
  }
 ],
 "metadata": {
  "kernelspec": {
   "display_name": "Python_3-12-1",
   "language": "python",
   "name": "python3"
  },
  "language_info": {
   "codemirror_mode": {
    "name": "ipython",
    "version": 3
   },
   "file_extension": ".py",
   "mimetype": "text/x-python",
   "name": "python",
   "nbconvert_exporter": "python",
   "pygments_lexer": "ipython3",
   "version": "3.12.1"
  }
 },
 "nbformat": 4,
 "nbformat_minor": 2
}
