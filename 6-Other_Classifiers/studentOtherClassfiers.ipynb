{
 "cells": [
  {
   "cell_type": "code",
   "execution_count": 3,
   "metadata": {},
   "outputs": [],
   "source": [
    "# import the necessary packages\n",
    "import pandas as pd\n",
    "from sklearn.neighbors import KNeighborsClassifier\n",
    "from sklearn.linear_model import LogisticRegression\n",
    "from sklearn.svm import SVC\n",
    "from sklearn.ensemble import RandomForestClassifier, AdaBoostClassifier\n",
    "from sklearn.model_selection import train_test_split, cross_val_score\n",
    "from sklearn.metrics import accuracy_score,precision_score,confusion_matrix,classification_report, precision_recall_curve\n",
    "import numpy as np"
   ]
  },
  {
   "cell_type": "code",
   "execution_count": 4,
   "metadata": {},
   "outputs": [
    {
     "name": "stdout",
     "output_type": "stream",
     "text": [
      "Features shape: (32560, 52)\n",
      "Labels shape: (32560,)\n"
     ]
    }
   ],
   "source": [
    "# Split your training and test data\n",
    "\n",
    "# Load the data from the file\n",
    "# File is in the ../Data directory\n",
    "# Fine name is \"cleaned_students.csv\"\n",
    "\n",
    "cleanedStudentsGradesDf = pd.read_csv(\"../data/cleaned_students.csv\")\n",
    "cleanedStudentsGradesDf.head()\n",
    "\n",
    "# Divide the X and y coordinates into two dataframes for training. gradingScale can be the labels dataframe\n",
    "# and the rest can be the features dataframe\n",
    "gradingScaleLabelsDf = cleanedStudentsGradesDf['grading_scale']\n",
    "gradingScaleLabelsDf.head()\n",
    "\n",
    "featuresDf = cleanedStudentsGradesDf.drop(['grading_scale', 'Unnamed: 0'], axis=1)\n",
    "featuresDf.head()\n",
    "\n",
    "# Check the shape of the features and labels dataframes\n",
    "print(\"Features shape:\", featuresDf.shape)\n",
    "print(\"Labels shape:\", gradingScaleLabelsDf.shape)\n",
    "\n",
    "# Ensure that the features and labels dataframes have the same number of rows\n",
    "if featuresDf.shape[0] != gradingScaleLabelsDf.shape[0]:\n",
    "    raise ValueError(\"Number of rows in features and labels dataframes are not equal.\")\n",
    "\n",
    "# Split the data into training and testing sets\n",
    "X_train, X_test, y_train, y_test = train_test_split(featuresDf, gradingScaleLabelsDf, test_size=0.3)"
   ]
  },
  {
   "cell_type": "code",
   "execution_count": 17,
   "metadata": {},
   "outputs": [],
   "source": [
    "X_train = np.ascontiguousarray(X_train)\n",
    "y_train = np.ascontiguousarray(y_train)\n",
    "X_test = np.ascontiguousarray(X_test)\n",
    "y_test = np.ascontiguousarray(y_test)"
   ]
  },
  {
   "cell_type": "code",
   "execution_count": 22,
   "metadata": {},
   "outputs": [],
   "source": [
    "# Build the classifiers list\n",
    "C = 10\n",
    "# Create different classifiers.\n",
    "classifiers = {\n",
    "    #'Linear SVC': SVC(kernel='linear', C=C, probability=True,random_state=0),\n",
    "    #'KNN classifier': KNeighborsClassifier(C),\n",
    "    #'SVC': SVC(),\n",
    "    'RFST': RandomForestClassifier(n_estimators=100),\n",
    "    'ADA': AdaBoostClassifier(n_estimators=100)\n",
    "}"
   ]
  },
  {
   "cell_type": "code",
   "execution_count": 23,
   "metadata": {},
   "outputs": [
    {
     "name": "stdout",
     "output_type": "stream",
     "text": [
      "Accuracy (train) for RFST: 28.4% \n",
      "              precision    recall  f1-score   support\n",
      "\n",
      "           A       0.20      0.18      0.19       859\n",
      "          A+       0.29      0.27      0.28       903\n",
      "          A-       0.17      0.11      0.14       918\n",
      "           B       0.20      0.17      0.19       892\n",
      "          B+       0.26      0.25      0.25       862\n",
      "          B-       0.30      0.31      0.30       869\n",
      "           C       0.29      0.32      0.30       876\n",
      "          C+       0.30      0.34      0.32       897\n",
      "          C-       0.39      0.48      0.43       929\n",
      "           D       0.28      0.27      0.28       872\n",
      "           F       0.33      0.42      0.37       891\n",
      "\n",
      "    accuracy                           0.28      9768\n",
      "   macro avg       0.27      0.28      0.28      9768\n",
      "weighted avg       0.27      0.28      0.28      9768\n",
      "\n",
      "Accuracy (train) for ADA: 16.0% \n",
      "              precision    recall  f1-score   support\n",
      "\n",
      "           A       0.21      0.21      0.21       859\n",
      "          A+       0.14      0.16      0.15       903\n",
      "          A-       0.20      0.12      0.15       918\n",
      "           B       0.11      0.04      0.06       892\n",
      "          B+       0.15      0.14      0.14       862\n",
      "          B-       0.12      0.06      0.08       869\n",
      "           C       0.13      0.06      0.08       876\n",
      "          C+       0.13      0.11      0.12       897\n",
      "          C-       0.19      0.33      0.24       929\n",
      "           D       0.15      0.20      0.17       872\n",
      "           F       0.16      0.33      0.21       891\n",
      "\n",
      "    accuracy                           0.16      9768\n",
      "   macro avg       0.15      0.16      0.15      9768\n",
      "weighted avg       0.15      0.16      0.15      9768\n",
      "\n"
     ]
    }
   ],
   "source": [
    "n_classifiers = len(classifiers)\n",
    "\n",
    "for index, (name, classifier) in enumerate(classifiers.items()):\n",
    "    classifier.fit(X_train, np.ravel(y_train))\n",
    "\n",
    "    y_pred = classifier.predict(X_test)\n",
    "    accuracy = accuracy_score(y_test, y_pred)\n",
    "    print(\"Accuracy (train) for %s: %0.1f%% \" % (name, accuracy * 100))\n",
    "    print(classification_report(y_test,y_pred))"
   ]
  },
  {
   "cell_type": "markdown",
   "metadata": {},
   "source": [
    "### Accuracy report:\n",
    "\n",
    "| Solver | Accuracy [%] |\n",
    "|-----------------|-----------------|\n",
    "| Linear SVC | 17.5 |\n",
    "| KNN | 24 |\n",
    "| SVC | 24 |\n",
    "| RFST | 28 |\n",
    "| ADA | 16 |\n"
   ]
  }
 ],
 "metadata": {
  "kernelspec": {
   "display_name": "Python_3-12-1",
   "language": "python",
   "name": "python3"
  },
  "language_info": {
   "codemirror_mode": {
    "name": "ipython",
    "version": 3
   },
   "file_extension": ".py",
   "mimetype": "text/x-python",
   "name": "python",
   "nbconvert_exporter": "python",
   "pygments_lexer": "ipython3",
   "version": "3.12.1"
  }
 },
 "nbformat": 4,
 "nbformat_minor": 2
}
